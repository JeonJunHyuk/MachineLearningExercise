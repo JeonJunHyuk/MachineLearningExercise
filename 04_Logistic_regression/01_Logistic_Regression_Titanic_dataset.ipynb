{
 "cells": [
  {
   "cell_type": "code",
   "execution_count": 1,
   "metadata": {},
   "outputs": [],
   "source": [
    "import pandas as pd\n",
    "import numpy as np\n",
    "import matplotlib.pyplot as plt\n",
    "%matplotlib inline"
   ]
  },
  {
   "cell_type": "markdown",
   "metadata": {},
   "source": [
    "# Classification with TItanic dataset\n",
    "- Data from Kaggle's Titanic competition: [data dictionary](https://www.kaggle.com/c/titanic/data)\n",
    "- **Goal**: Predict survival based on passenger characteristics\n",
    "- `titanic.csv` is already in our repo, so there is no need to download the data from the Kaggle website"
   ]
  },
  {
   "cell_type": "code",
   "execution_count": 2,
   "metadata": {
    "scrolled": true
   },
   "outputs": [
    {
     "data": {
      "text/html": [
       "<div>\n",
       "<style scoped>\n",
       "    .dataframe tbody tr th:only-of-type {\n",
       "        vertical-align: middle;\n",
       "    }\n",
       "\n",
       "    .dataframe tbody tr th {\n",
       "        vertical-align: top;\n",
       "    }\n",
       "\n",
       "    .dataframe thead th {\n",
       "        text-align: right;\n",
       "    }\n",
       "</style>\n",
       "<table border=\"1\" class=\"dataframe\">\n",
       "  <thead>\n",
       "    <tr style=\"text-align: right;\">\n",
       "      <th></th>\n",
       "      <th>Survived</th>\n",
       "      <th>Pclass</th>\n",
       "      <th>Name</th>\n",
       "      <th>Sex</th>\n",
       "      <th>Age</th>\n",
       "      <th>SibSp</th>\n",
       "      <th>Parch</th>\n",
       "      <th>Ticket</th>\n",
       "      <th>Fare</th>\n",
       "      <th>Cabin</th>\n",
       "      <th>Embarked</th>\n",
       "    </tr>\n",
       "    <tr>\n",
       "      <th>PassengerId</th>\n",
       "      <th></th>\n",
       "      <th></th>\n",
       "      <th></th>\n",
       "      <th></th>\n",
       "      <th></th>\n",
       "      <th></th>\n",
       "      <th></th>\n",
       "      <th></th>\n",
       "      <th></th>\n",
       "      <th></th>\n",
       "      <th></th>\n",
       "    </tr>\n",
       "  </thead>\n",
       "  <tbody>\n",
       "    <tr>\n",
       "      <th>1</th>\n",
       "      <td>0</td>\n",
       "      <td>3</td>\n",
       "      <td>Braund, Mr. Owen Harris</td>\n",
       "      <td>male</td>\n",
       "      <td>22.0</td>\n",
       "      <td>1</td>\n",
       "      <td>0</td>\n",
       "      <td>A/5 21171</td>\n",
       "      <td>7.2500</td>\n",
       "      <td>NaN</td>\n",
       "      <td>S</td>\n",
       "    </tr>\n",
       "    <tr>\n",
       "      <th>2</th>\n",
       "      <td>1</td>\n",
       "      <td>1</td>\n",
       "      <td>Cumings, Mrs. John Bradley (Florence Briggs Th...</td>\n",
       "      <td>female</td>\n",
       "      <td>38.0</td>\n",
       "      <td>1</td>\n",
       "      <td>0</td>\n",
       "      <td>PC 17599</td>\n",
       "      <td>71.2833</td>\n",
       "      <td>C85</td>\n",
       "      <td>C</td>\n",
       "    </tr>\n",
       "    <tr>\n",
       "      <th>3</th>\n",
       "      <td>1</td>\n",
       "      <td>3</td>\n",
       "      <td>Heikkinen, Miss. Laina</td>\n",
       "      <td>female</td>\n",
       "      <td>26.0</td>\n",
       "      <td>0</td>\n",
       "      <td>0</td>\n",
       "      <td>STON/O2. 3101282</td>\n",
       "      <td>7.9250</td>\n",
       "      <td>NaN</td>\n",
       "      <td>S</td>\n",
       "    </tr>\n",
       "    <tr>\n",
       "      <th>4</th>\n",
       "      <td>1</td>\n",
       "      <td>1</td>\n",
       "      <td>Futrelle, Mrs. Jacques Heath (Lily May Peel)</td>\n",
       "      <td>female</td>\n",
       "      <td>35.0</td>\n",
       "      <td>1</td>\n",
       "      <td>0</td>\n",
       "      <td>113803</td>\n",
       "      <td>53.1000</td>\n",
       "      <td>C123</td>\n",
       "      <td>S</td>\n",
       "    </tr>\n",
       "    <tr>\n",
       "      <th>5</th>\n",
       "      <td>0</td>\n",
       "      <td>3</td>\n",
       "      <td>Allen, Mr. William Henry</td>\n",
       "      <td>male</td>\n",
       "      <td>35.0</td>\n",
       "      <td>0</td>\n",
       "      <td>0</td>\n",
       "      <td>373450</td>\n",
       "      <td>8.0500</td>\n",
       "      <td>NaN</td>\n",
       "      <td>S</td>\n",
       "    </tr>\n",
       "  </tbody>\n",
       "</table>\n",
       "</div>"
      ],
      "text/plain": [
       "             Survived  Pclass  \\\n",
       "PassengerId                     \n",
       "1                   0       3   \n",
       "2                   1       1   \n",
       "3                   1       3   \n",
       "4                   1       1   \n",
       "5                   0       3   \n",
       "\n",
       "                                                          Name     Sex   Age  \\\n",
       "PassengerId                                                                    \n",
       "1                                      Braund, Mr. Owen Harris    male  22.0   \n",
       "2            Cumings, Mrs. John Bradley (Florence Briggs Th...  female  38.0   \n",
       "3                                       Heikkinen, Miss. Laina  female  26.0   \n",
       "4                 Futrelle, Mrs. Jacques Heath (Lily May Peel)  female  35.0   \n",
       "5                                     Allen, Mr. William Henry    male  35.0   \n",
       "\n",
       "             SibSp  Parch            Ticket     Fare Cabin Embarked  \n",
       "PassengerId                                                          \n",
       "1                1      0         A/5 21171   7.2500   NaN        S  \n",
       "2                1      0          PC 17599  71.2833   C85        C  \n",
       "3                0      0  STON/O2. 3101282   7.9250   NaN        S  \n",
       "4                1      0            113803  53.1000  C123        S  \n",
       "5                0      0            373450   8.0500   NaN        S  "
      ]
     },
     "execution_count": 2,
     "metadata": {},
     "output_type": "execute_result"
    }
   ],
   "source": [
    "data_file = 'data/titanic.csv'\n",
    "titanic = pd.read_csv(data_file, index_col='PassengerId')\n",
    "titanic.head()"
   ]
  },
  {
   "cell_type": "code",
   "execution_count": 3,
   "metadata": {},
   "outputs": [
    {
     "name": "stdout",
     "output_type": "stream",
     "text": [
      "<class 'pandas.core.frame.DataFrame'>\n",
      "Int64Index: 891 entries, 1 to 891\n",
      "Data columns (total 11 columns):\n",
      "Survived    891 non-null int64\n",
      "Pclass      891 non-null int64\n",
      "Name        891 non-null object\n",
      "Sex         891 non-null object\n",
      "Age         714 non-null float64\n",
      "SibSp       891 non-null int64\n",
      "Parch       891 non-null int64\n",
      "Ticket      891 non-null object\n",
      "Fare        891 non-null float64\n",
      "Cabin       204 non-null object\n",
      "Embarked    889 non-null object\n",
      "dtypes: float64(2), int64(4), object(5)\n",
      "memory usage: 83.5+ KB\n"
     ]
    }
   ],
   "source": [
    "titanic.info()"
   ]
  },
  {
   "cell_type": "markdown",
   "metadata": {},
   "source": [
    "### Embarked 변수 처리"
   ]
  },
  {
   "cell_type": "code",
   "execution_count": 4,
   "metadata": {
    "scrolled": true
   },
   "outputs": [
    {
     "data": {
      "text/plain": [
       "S    644\n",
       "C    168\n",
       "Q     77\n",
       "Name: Embarked, dtype: int64"
      ]
     },
     "execution_count": 4,
     "metadata": {},
     "output_type": "execute_result"
    }
   ],
   "source": [
    "titanic['Embarked'].value_counts()"
   ]
  },
  {
   "cell_type": "code",
   "execution_count": 5,
   "metadata": {
    "scrolled": true
   },
   "outputs": [
    {
     "data": {
      "text/html": [
       "<div>\n",
       "<style scoped>\n",
       "    .dataframe tbody tr th:only-of-type {\n",
       "        vertical-align: middle;\n",
       "    }\n",
       "\n",
       "    .dataframe tbody tr th {\n",
       "        vertical-align: top;\n",
       "    }\n",
       "\n",
       "    .dataframe thead th {\n",
       "        text-align: right;\n",
       "    }\n",
       "</style>\n",
       "<table border=\"1\" class=\"dataframe\">\n",
       "  <thead>\n",
       "    <tr style=\"text-align: right;\">\n",
       "      <th></th>\n",
       "      <th>port_C</th>\n",
       "      <th>port_Q</th>\n",
       "    </tr>\n",
       "    <tr>\n",
       "      <th>PassengerId</th>\n",
       "      <th></th>\n",
       "      <th></th>\n",
       "    </tr>\n",
       "  </thead>\n",
       "  <tbody>\n",
       "    <tr>\n",
       "      <th>857</th>\n",
       "      <td>0</td>\n",
       "      <td>0</td>\n",
       "    </tr>\n",
       "    <tr>\n",
       "      <th>253</th>\n",
       "      <td>0</td>\n",
       "      <td>0</td>\n",
       "    </tr>\n",
       "    <tr>\n",
       "      <th>6</th>\n",
       "      <td>0</td>\n",
       "      <td>1</td>\n",
       "    </tr>\n",
       "    <tr>\n",
       "      <th>469</th>\n",
       "      <td>0</td>\n",
       "      <td>1</td>\n",
       "    </tr>\n",
       "    <tr>\n",
       "      <th>269</th>\n",
       "      <td>0</td>\n",
       "      <td>0</td>\n",
       "    </tr>\n",
       "    <tr>\n",
       "      <th>107</th>\n",
       "      <td>0</td>\n",
       "      <td>0</td>\n",
       "    </tr>\n",
       "    <tr>\n",
       "      <th>39</th>\n",
       "      <td>0</td>\n",
       "      <td>0</td>\n",
       "    </tr>\n",
       "    <tr>\n",
       "      <th>822</th>\n",
       "      <td>0</td>\n",
       "      <td>0</td>\n",
       "    </tr>\n",
       "    <tr>\n",
       "      <th>711</th>\n",
       "      <td>1</td>\n",
       "      <td>0</td>\n",
       "    </tr>\n",
       "    <tr>\n",
       "      <th>30</th>\n",
       "      <td>0</td>\n",
       "      <td>0</td>\n",
       "    </tr>\n",
       "  </tbody>\n",
       "</table>\n",
       "</div>"
      ],
      "text/plain": [
       "             port_C  port_Q\n",
       "PassengerId                \n",
       "857               0       0\n",
       "253               0       0\n",
       "6                 0       1\n",
       "469               0       1\n",
       "269               0       0\n",
       "107               0       0\n",
       "39                0       0\n",
       "822               0       0\n",
       "711               1       0\n",
       "30                0       0"
      ]
     },
     "execution_count": 5,
     "metadata": {},
     "output_type": "execute_result"
    }
   ],
   "source": [
    "embark_dum = pd.get_dummies(titanic['Embarked'], prefix='port')\n",
    "embark_dum.drop(embark_dum.columns[2], axis=1, inplace=True)\n",
    "embark_dum.sample(n = 10)"
   ]
  },
  {
   "cell_type": "code",
   "execution_count": 6,
   "metadata": {},
   "outputs": [],
   "source": [
    "titanic = pd.concat([titanic, embark_dum], axis=1)\n",
    "titanic.drop(['Embarked'], axis=1, inplace=True)"
   ]
  },
  {
   "cell_type": "markdown",
   "metadata": {},
   "source": [
    "### Age 변수 처리\n",
    "- 결측치 (missing value) 존재"
   ]
  },
  {
   "cell_type": "code",
   "execution_count": 7,
   "metadata": {},
   "outputs": [],
   "source": [
    "age_group = []\n",
    "for i in range (0, len(titanic)):\n",
    "    age = titanic.iloc[i]['Age']\n",
    "    age = 'child' if age < 20 else 'adult' if age >= 20 else 'unknown'\n",
    "    age_group.append(age)"
   ]
  },
  {
   "cell_type": "code",
   "execution_count": 8,
   "metadata": {},
   "outputs": [],
   "source": [
    "titanic['Age_modified'] = age_group"
   ]
  },
  {
   "cell_type": "code",
   "execution_count": 9,
   "metadata": {},
   "outputs": [
    {
     "data": {
      "text/html": [
       "<div>\n",
       "<style scoped>\n",
       "    .dataframe tbody tr th:only-of-type {\n",
       "        vertical-align: middle;\n",
       "    }\n",
       "\n",
       "    .dataframe tbody tr th {\n",
       "        vertical-align: top;\n",
       "    }\n",
       "\n",
       "    .dataframe thead th {\n",
       "        text-align: right;\n",
       "    }\n",
       "</style>\n",
       "<table border=\"1\" class=\"dataframe\">\n",
       "  <thead>\n",
       "    <tr style=\"text-align: right;\">\n",
       "      <th></th>\n",
       "      <th>Age_adult</th>\n",
       "      <th>Age_child</th>\n",
       "    </tr>\n",
       "    <tr>\n",
       "      <th>PassengerId</th>\n",
       "      <th></th>\n",
       "      <th></th>\n",
       "    </tr>\n",
       "  </thead>\n",
       "  <tbody>\n",
       "    <tr>\n",
       "      <th>66</th>\n",
       "      <td>0</td>\n",
       "      <td>0</td>\n",
       "    </tr>\n",
       "    <tr>\n",
       "      <th>574</th>\n",
       "      <td>0</td>\n",
       "      <td>0</td>\n",
       "    </tr>\n",
       "    <tr>\n",
       "      <th>495</th>\n",
       "      <td>1</td>\n",
       "      <td>0</td>\n",
       "    </tr>\n",
       "    <tr>\n",
       "      <th>718</th>\n",
       "      <td>1</td>\n",
       "      <td>0</td>\n",
       "    </tr>\n",
       "    <tr>\n",
       "      <th>268</th>\n",
       "      <td>1</td>\n",
       "      <td>0</td>\n",
       "    </tr>\n",
       "    <tr>\n",
       "      <th>298</th>\n",
       "      <td>0</td>\n",
       "      <td>1</td>\n",
       "    </tr>\n",
       "    <tr>\n",
       "      <th>312</th>\n",
       "      <td>0</td>\n",
       "      <td>1</td>\n",
       "    </tr>\n",
       "    <tr>\n",
       "      <th>98</th>\n",
       "      <td>1</td>\n",
       "      <td>0</td>\n",
       "    </tr>\n",
       "    <tr>\n",
       "      <th>760</th>\n",
       "      <td>1</td>\n",
       "      <td>0</td>\n",
       "    </tr>\n",
       "    <tr>\n",
       "      <th>426</th>\n",
       "      <td>0</td>\n",
       "      <td>0</td>\n",
       "    </tr>\n",
       "  </tbody>\n",
       "</table>\n",
       "</div>"
      ],
      "text/plain": [
       "             Age_adult  Age_child\n",
       "PassengerId                      \n",
       "66                   0          0\n",
       "574                  0          0\n",
       "495                  1          0\n",
       "718                  1          0\n",
       "268                  1          0\n",
       "298                  0          1\n",
       "312                  0          1\n",
       "98                   1          0\n",
       "760                  1          0\n",
       "426                  0          0"
      ]
     },
     "execution_count": 9,
     "metadata": {},
     "output_type": "execute_result"
    }
   ],
   "source": [
    "age_dum = pd.get_dummies(titanic['Age_modified'], prefix = 'Age')\n",
    "age_dum.drop(age_dum.columns[2], axis=1, inplace=True)\n",
    "age_dum.sample(n = 10)"
   ]
  },
  {
   "cell_type": "code",
   "execution_count": 10,
   "metadata": {},
   "outputs": [],
   "source": [
    "titanic = pd.concat([titanic, age_dum], axis=1)\n",
    "titanic.drop(['Age', 'Age_modified'], axis=1, inplace=True)"
   ]
  },
  {
   "cell_type": "markdown",
   "metadata": {},
   "source": [
    "### Sex 처리"
   ]
  },
  {
   "cell_type": "code",
   "execution_count": 11,
   "metadata": {},
   "outputs": [],
   "source": [
    "titanic['Sex'] = titanic['Sex'].map({'female':1, 'male':0})"
   ]
  },
  {
   "cell_type": "code",
   "execution_count": 12,
   "metadata": {},
   "outputs": [
    {
     "data": {
      "text/html": [
       "<div>\n",
       "<style scoped>\n",
       "    .dataframe tbody tr th:only-of-type {\n",
       "        vertical-align: middle;\n",
       "    }\n",
       "\n",
       "    .dataframe tbody tr th {\n",
       "        vertical-align: top;\n",
       "    }\n",
       "\n",
       "    .dataframe thead th {\n",
       "        text-align: right;\n",
       "    }\n",
       "</style>\n",
       "<table border=\"1\" class=\"dataframe\">\n",
       "  <thead>\n",
       "    <tr style=\"text-align: right;\">\n",
       "      <th></th>\n",
       "      <th>Survived</th>\n",
       "      <th>Pclass</th>\n",
       "      <th>Name</th>\n",
       "      <th>Sex</th>\n",
       "      <th>SibSp</th>\n",
       "      <th>Parch</th>\n",
       "      <th>Ticket</th>\n",
       "      <th>Fare</th>\n",
       "      <th>Cabin</th>\n",
       "      <th>port_C</th>\n",
       "      <th>port_Q</th>\n",
       "      <th>Age_adult</th>\n",
       "      <th>Age_child</th>\n",
       "    </tr>\n",
       "    <tr>\n",
       "      <th>PassengerId</th>\n",
       "      <th></th>\n",
       "      <th></th>\n",
       "      <th></th>\n",
       "      <th></th>\n",
       "      <th></th>\n",
       "      <th></th>\n",
       "      <th></th>\n",
       "      <th></th>\n",
       "      <th></th>\n",
       "      <th></th>\n",
       "      <th></th>\n",
       "      <th></th>\n",
       "      <th></th>\n",
       "    </tr>\n",
       "  </thead>\n",
       "  <tbody>\n",
       "    <tr>\n",
       "      <th>1</th>\n",
       "      <td>0</td>\n",
       "      <td>3</td>\n",
       "      <td>Braund, Mr. Owen Harris</td>\n",
       "      <td>0</td>\n",
       "      <td>1</td>\n",
       "      <td>0</td>\n",
       "      <td>A/5 21171</td>\n",
       "      <td>7.2500</td>\n",
       "      <td>NaN</td>\n",
       "      <td>0</td>\n",
       "      <td>0</td>\n",
       "      <td>1</td>\n",
       "      <td>0</td>\n",
       "    </tr>\n",
       "    <tr>\n",
       "      <th>2</th>\n",
       "      <td>1</td>\n",
       "      <td>1</td>\n",
       "      <td>Cumings, Mrs. John Bradley (Florence Briggs Th...</td>\n",
       "      <td>1</td>\n",
       "      <td>1</td>\n",
       "      <td>0</td>\n",
       "      <td>PC 17599</td>\n",
       "      <td>71.2833</td>\n",
       "      <td>C85</td>\n",
       "      <td>1</td>\n",
       "      <td>0</td>\n",
       "      <td>1</td>\n",
       "      <td>0</td>\n",
       "    </tr>\n",
       "    <tr>\n",
       "      <th>3</th>\n",
       "      <td>1</td>\n",
       "      <td>3</td>\n",
       "      <td>Heikkinen, Miss. Laina</td>\n",
       "      <td>1</td>\n",
       "      <td>0</td>\n",
       "      <td>0</td>\n",
       "      <td>STON/O2. 3101282</td>\n",
       "      <td>7.9250</td>\n",
       "      <td>NaN</td>\n",
       "      <td>0</td>\n",
       "      <td>0</td>\n",
       "      <td>1</td>\n",
       "      <td>0</td>\n",
       "    </tr>\n",
       "    <tr>\n",
       "      <th>4</th>\n",
       "      <td>1</td>\n",
       "      <td>1</td>\n",
       "      <td>Futrelle, Mrs. Jacques Heath (Lily May Peel)</td>\n",
       "      <td>1</td>\n",
       "      <td>1</td>\n",
       "      <td>0</td>\n",
       "      <td>113803</td>\n",
       "      <td>53.1000</td>\n",
       "      <td>C123</td>\n",
       "      <td>0</td>\n",
       "      <td>0</td>\n",
       "      <td>1</td>\n",
       "      <td>0</td>\n",
       "    </tr>\n",
       "    <tr>\n",
       "      <th>5</th>\n",
       "      <td>0</td>\n",
       "      <td>3</td>\n",
       "      <td>Allen, Mr. William Henry</td>\n",
       "      <td>0</td>\n",
       "      <td>0</td>\n",
       "      <td>0</td>\n",
       "      <td>373450</td>\n",
       "      <td>8.0500</td>\n",
       "      <td>NaN</td>\n",
       "      <td>0</td>\n",
       "      <td>0</td>\n",
       "      <td>1</td>\n",
       "      <td>0</td>\n",
       "    </tr>\n",
       "    <tr>\n",
       "      <th>6</th>\n",
       "      <td>0</td>\n",
       "      <td>3</td>\n",
       "      <td>Moran, Mr. James</td>\n",
       "      <td>0</td>\n",
       "      <td>0</td>\n",
       "      <td>0</td>\n",
       "      <td>330877</td>\n",
       "      <td>8.4583</td>\n",
       "      <td>NaN</td>\n",
       "      <td>0</td>\n",
       "      <td>1</td>\n",
       "      <td>0</td>\n",
       "      <td>0</td>\n",
       "    </tr>\n",
       "    <tr>\n",
       "      <th>7</th>\n",
       "      <td>0</td>\n",
       "      <td>1</td>\n",
       "      <td>McCarthy, Mr. Timothy J</td>\n",
       "      <td>0</td>\n",
       "      <td>0</td>\n",
       "      <td>0</td>\n",
       "      <td>17463</td>\n",
       "      <td>51.8625</td>\n",
       "      <td>E46</td>\n",
       "      <td>0</td>\n",
       "      <td>0</td>\n",
       "      <td>1</td>\n",
       "      <td>0</td>\n",
       "    </tr>\n",
       "    <tr>\n",
       "      <th>8</th>\n",
       "      <td>0</td>\n",
       "      <td>3</td>\n",
       "      <td>Palsson, Master. Gosta Leonard</td>\n",
       "      <td>0</td>\n",
       "      <td>3</td>\n",
       "      <td>1</td>\n",
       "      <td>349909</td>\n",
       "      <td>21.0750</td>\n",
       "      <td>NaN</td>\n",
       "      <td>0</td>\n",
       "      <td>0</td>\n",
       "      <td>0</td>\n",
       "      <td>1</td>\n",
       "    </tr>\n",
       "    <tr>\n",
       "      <th>9</th>\n",
       "      <td>1</td>\n",
       "      <td>3</td>\n",
       "      <td>Johnson, Mrs. Oscar W (Elisabeth Vilhelmina Berg)</td>\n",
       "      <td>1</td>\n",
       "      <td>0</td>\n",
       "      <td>2</td>\n",
       "      <td>347742</td>\n",
       "      <td>11.1333</td>\n",
       "      <td>NaN</td>\n",
       "      <td>0</td>\n",
       "      <td>0</td>\n",
       "      <td>1</td>\n",
       "      <td>0</td>\n",
       "    </tr>\n",
       "    <tr>\n",
       "      <th>10</th>\n",
       "      <td>1</td>\n",
       "      <td>2</td>\n",
       "      <td>Nasser, Mrs. Nicholas (Adele Achem)</td>\n",
       "      <td>1</td>\n",
       "      <td>1</td>\n",
       "      <td>0</td>\n",
       "      <td>237736</td>\n",
       "      <td>30.0708</td>\n",
       "      <td>NaN</td>\n",
       "      <td>1</td>\n",
       "      <td>0</td>\n",
       "      <td>0</td>\n",
       "      <td>1</td>\n",
       "    </tr>\n",
       "  </tbody>\n",
       "</table>\n",
       "</div>"
      ],
      "text/plain": [
       "             Survived  Pclass  \\\n",
       "PassengerId                     \n",
       "1                   0       3   \n",
       "2                   1       1   \n",
       "3                   1       3   \n",
       "4                   1       1   \n",
       "5                   0       3   \n",
       "6                   0       3   \n",
       "7                   0       1   \n",
       "8                   0       3   \n",
       "9                   1       3   \n",
       "10                  1       2   \n",
       "\n",
       "                                                          Name  Sex  SibSp  \\\n",
       "PassengerId                                                                  \n",
       "1                                      Braund, Mr. Owen Harris    0      1   \n",
       "2            Cumings, Mrs. John Bradley (Florence Briggs Th...    1      1   \n",
       "3                                       Heikkinen, Miss. Laina    1      0   \n",
       "4                 Futrelle, Mrs. Jacques Heath (Lily May Peel)    1      1   \n",
       "5                                     Allen, Mr. William Henry    0      0   \n",
       "6                                             Moran, Mr. James    0      0   \n",
       "7                                      McCarthy, Mr. Timothy J    0      0   \n",
       "8                               Palsson, Master. Gosta Leonard    0      3   \n",
       "9            Johnson, Mrs. Oscar W (Elisabeth Vilhelmina Berg)    1      0   \n",
       "10                         Nasser, Mrs. Nicholas (Adele Achem)    1      1   \n",
       "\n",
       "             Parch            Ticket     Fare Cabin  port_C  port_Q  \\\n",
       "PassengerId                                                           \n",
       "1                0         A/5 21171   7.2500   NaN       0       0   \n",
       "2                0          PC 17599  71.2833   C85       1       0   \n",
       "3                0  STON/O2. 3101282   7.9250   NaN       0       0   \n",
       "4                0            113803  53.1000  C123       0       0   \n",
       "5                0            373450   8.0500   NaN       0       0   \n",
       "6                0            330877   8.4583   NaN       0       1   \n",
       "7                0             17463  51.8625   E46       0       0   \n",
       "8                1            349909  21.0750   NaN       0       0   \n",
       "9                2            347742  11.1333   NaN       0       0   \n",
       "10               0            237736  30.0708   NaN       1       0   \n",
       "\n",
       "             Age_adult  Age_child  \n",
       "PassengerId                        \n",
       "1                    1          0  \n",
       "2                    1          0  \n",
       "3                    1          0  \n",
       "4                    1          0  \n",
       "5                    1          0  \n",
       "6                    0          0  \n",
       "7                    1          0  \n",
       "8                    0          1  \n",
       "9                    1          0  \n",
       "10                   0          1  "
      ]
     },
     "execution_count": 12,
     "metadata": {},
     "output_type": "execute_result"
    }
   ],
   "source": [
    "titanic.head(10)"
   ]
  },
  {
   "cell_type": "markdown",
   "metadata": {},
   "source": [
    "# Model 학습"
   ]
  },
  {
   "cell_type": "code",
   "execution_count": 13,
   "metadata": {},
   "outputs": [],
   "source": [
    "from sklearn.model_selection import train_test_split\n",
    "from sklearn.linear_model import LogisticRegression\n",
    "from sklearn import metrics"
   ]
  },
  {
   "cell_type": "code",
   "execution_count": 14,
   "metadata": {},
   "outputs": [],
   "source": [
    "feature_cols = ['Pclass', 'Sex', 'SibSp', 'Parch', 'Fare', 'port_C', 'port_Q', 'Age_adult', 'Age_child']\n",
    "X = titanic[feature_cols]\n",
    "y = titanic.Survived\n",
    "\n",
    "X_train, X_test, y_train, y_test = train_test_split(X, y, random_state=123)"
   ]
  },
  {
   "cell_type": "code",
   "execution_count": 15,
   "metadata": {},
   "outputs": [
    {
     "name": "stdout",
     "output_type": "stream",
     "text": [
      "[('Pclass', -0.8714927707586119), ('Sex', 2.70216106196154), ('SibSp', -0.3435553330769576), ('Parch', -0.07449678031750047), ('Fare', 0.0026928346968507224), ('port_C', 0.2929391077555228), ('port_Q', 0.4784704748230585), ('Age_adult', 0.2434912189043916), ('Age_child', 1.092482952504907)]\n"
     ]
    },
    {
     "name": "stderr",
     "output_type": "stream",
     "text": [
      "C:\\Users\\JunHyuk\\Anaconda3\\lib\\site-packages\\sklearn\\linear_model\\logistic.py:433: FutureWarning: Default solver will be changed to 'lbfgs' in 0.22. Specify a solver to silence this warning.\n",
      "  FutureWarning)\n"
     ]
    }
   ],
   "source": [
    "logreg = LogisticRegression(C=1000)\n",
    "logreg.fit(X_train, y_train)\n",
    "print(list(zip(feature_cols, logreg.coef_[0])))"
   ]
  },
  {
   "cell_type": "code",
   "execution_count": 16,
   "metadata": {},
   "outputs": [
    {
     "name": "stdout",
     "output_type": "stream",
     "text": [
      "[[-8.71492771e-01  2.70216106e+00 -3.43555333e-01 -7.44967803e-02\n",
      "   2.69283470e-03  2.92939108e-01  4.78470475e-01  2.43491219e-01\n",
      "   1.09248295e+00]]\n",
      "[-8.71492771e-01  2.70216106e+00 -3.43555333e-01 -7.44967803e-02\n",
      "  2.69283470e-03  2.92939108e-01  4.78470475e-01  2.43491219e-01\n",
      "  1.09248295e+00]\n"
     ]
    }
   ],
   "source": [
    "print(logreg.coef_)\n",
    "print(logreg.coef_[0])"
   ]
  },
  {
   "cell_type": "code",
   "execution_count": 17,
   "metadata": {},
   "outputs": [],
   "source": [
    "# class predictions (not predicted probabilities)\n",
    "y_pred_class = logreg.predict(X_test)"
   ]
  },
  {
   "cell_type": "code",
   "execution_count": 18,
   "metadata": {},
   "outputs": [
    {
     "data": {
      "text/plain": [
       "array([1, 0, 0, 0, 0, 0, 1, 1, 1, 1, 1, 1, 1, 0, 1, 1, 1, 0, 0, 0, 0, 1,\n",
       "       0, 0, 0, 0, 0, 1, 0, 0, 1, 1, 0, 0, 0, 0, 0, 0, 1, 0, 1, 0, 1, 1,\n",
       "       0, 0, 1, 0, 0, 1, 1, 0, 0, 0, 0, 0, 0, 0, 0, 0, 1, 1, 1, 1, 0, 0,\n",
       "       0, 0, 0, 1, 1, 0, 0, 0, 0, 0, 0, 0, 1, 1, 1, 0, 0, 0, 0, 0, 1, 0,\n",
       "       0, 0, 1, 0, 0, 0, 0, 0, 1, 1, 0, 1, 0, 0, 0, 1, 0, 0, 0, 0, 0, 1,\n",
       "       0, 0, 1, 0, 0, 0, 0, 0, 0, 1, 0, 0, 0, 0, 0, 0, 0, 0, 1, 0, 1, 0,\n",
       "       0, 1, 1, 0, 1, 1, 0, 1, 0, 0, 0, 0, 1, 0, 0, 0, 0, 1, 0, 0, 1, 0,\n",
       "       1, 0, 1, 1, 1, 1, 1, 0, 0, 1, 0, 1, 1, 0, 1, 0, 0, 0, 0, 0, 0, 0,\n",
       "       0, 0, 0, 1, 0, 0, 0, 0, 0, 1, 0, 1, 0, 1, 0, 0, 1, 0, 1, 0, 0, 1,\n",
       "       1, 0, 1, 1, 0, 0, 0, 0, 0, 1, 0, 0, 0, 1, 1, 0, 0, 0, 0, 0, 0, 0,\n",
       "       0, 0, 0], dtype=int64)"
      ]
     },
     "execution_count": 18,
     "metadata": {},
     "output_type": "execute_result"
    }
   ],
   "source": [
    "y_pred_class"
   ]
  },
  {
   "cell_type": "code",
   "execution_count": 19,
   "metadata": {},
   "outputs": [],
   "source": [
    "y_pred_prob = logreg.predict_proba(X_test)"
   ]
  },
  {
   "cell_type": "code",
   "execution_count": 20,
   "metadata": {},
   "outputs": [
    {
     "data": {
      "text/plain": [
       "array([[0.28661747, 0.71338253],\n",
       "       [0.89864844, 0.10135156],\n",
       "       [0.53508244, 0.46491756],\n",
       "       [0.6030084 , 0.3969916 ],\n",
       "       [0.90575789, 0.09424211],\n",
       "       [0.7874638 , 0.2125362 ],\n",
       "       [0.20345246, 0.79654754],\n",
       "       [0.26203148, 0.73796852],\n",
       "       [0.17403351, 0.82596649],\n",
       "       [0.44776283, 0.55223717],\n",
       "       [0.36438009, 0.63561991],\n",
       "       [0.38409292, 0.61590708],\n",
       "       [0.11632894, 0.88367106],\n",
       "       [0.90287052, 0.09712948],\n",
       "       [0.07147881, 0.92852119],\n",
       "       [0.2925291 , 0.7074709 ],\n",
       "       [0.05307919, 0.94692081],\n",
       "       [0.64955312, 0.35044688],\n",
       "       [0.52883368, 0.47116632],\n",
       "       [0.84113863, 0.15886137],\n",
       "       [0.55525925, 0.44474075],\n",
       "       [0.1097666 , 0.8902334 ],\n",
       "       [0.79326374, 0.20673626],\n",
       "       [0.90838212, 0.09161788],\n",
       "       [0.93957735, 0.06042265],\n",
       "       [0.92736056, 0.07263944],\n",
       "       [0.90290693, 0.09709307],\n",
       "       [0.03606989, 0.96393011],\n",
       "       [0.79914477, 0.20085523],\n",
       "       [0.88030934, 0.11969066],\n",
       "       [0.45130192, 0.54869808],\n",
       "       [0.26709518, 0.73290482],\n",
       "       [0.79326374, 0.20673626],\n",
       "       [0.8908135 , 0.1091865 ],\n",
       "       [0.70052885, 0.29947115],\n",
       "       [0.74243994, 0.25756006],\n",
       "       [0.90296494, 0.09703506],\n",
       "       [0.90294134, 0.09705866],\n",
       "       [0.20465519, 0.79534481],\n",
       "       [0.53290463, 0.46709537],\n",
       "       [0.05347829, 0.94652171],\n",
       "       [0.94430169, 0.05569831],\n",
       "       [0.45121449, 0.54878551],\n",
       "       [0.38301582, 0.61698418],\n",
       "       [0.79857322, 0.20142678],\n",
       "       [0.79326374, 0.20673626],\n",
       "       [0.11910749, 0.88089251],\n",
       "       [0.6707886 , 0.3292114 ],\n",
       "       [0.90310641, 0.09689359],\n",
       "       [0.25943626, 0.74056374],\n",
       "       [0.37288393, 0.62711607],\n",
       "       [0.5347079 , 0.4652921 ],\n",
       "       [0.90305927, 0.09694073],\n",
       "       [0.90287052, 0.09712948],\n",
       "       [0.79326374, 0.20673626],\n",
       "       [0.89864947, 0.10135053],\n",
       "       [0.93957735, 0.06042265],\n",
       "       [0.79918799, 0.20081201],\n",
       "       [0.66204897, 0.33795103],\n",
       "       [0.95861996, 0.04138004],\n",
       "       [0.11990087, 0.88009913],\n",
       "       [0.02646791, 0.97353209],\n",
       "       [0.45726526, 0.54273474],\n",
       "       [0.07296758, 0.92703242],\n",
       "       [0.90310641, 0.09689359],\n",
       "       [0.93279807, 0.06720193],\n",
       "       [0.79326374, 0.20673626],\n",
       "       [0.79326374, 0.20673626],\n",
       "       [0.6611088 , 0.3388912 ],\n",
       "       [0.16928852, 0.83071148],\n",
       "       [0.08707071, 0.91292929],\n",
       "       [0.90287052, 0.09712948],\n",
       "       [0.66171186, 0.33828814],\n",
       "       [0.53068238, 0.46931762],\n",
       "       [0.90293544, 0.09706456],\n",
       "       [0.90290693, 0.09709307],\n",
       "       [0.94786279, 0.05213721],\n",
       "       [0.90305927, 0.09694073],\n",
       "       [0.10706286, 0.89293714],\n",
       "       [0.09158915, 0.90841085],\n",
       "       [0.462384  , 0.537616  ],\n",
       "       [0.90095285, 0.09904715],\n",
       "       [0.94484708, 0.05515292],\n",
       "       [0.89864844, 0.10135156],\n",
       "       [0.90290693, 0.09709307],\n",
       "       [0.79358373, 0.20641627],\n",
       "       [0.18448125, 0.81551875],\n",
       "       [0.87379583, 0.12620417],\n",
       "       [0.65838862, 0.34161138],\n",
       "       [0.90310641, 0.09689359],\n",
       "       [0.20974829, 0.79025171],\n",
       "       [0.78464464, 0.21535536],\n",
       "       [0.79282178, 0.20717822],\n",
       "       [0.94484708, 0.05515292],\n",
       "       [0.55226006, 0.44773994],\n",
       "       [0.79925099, 0.20074901],\n",
       "       [0.06233874, 0.93766126],\n",
       "       [0.07181264, 0.92818736],\n",
       "       [0.90272774, 0.09727226],\n",
       "       [0.34670797, 0.65329203],\n",
       "       [0.93957735, 0.06042265],\n",
       "       [0.51480807, 0.48519193],\n",
       "       [0.60747987, 0.39252013],\n",
       "       [0.16626453, 0.83373547],\n",
       "       [0.88030934, 0.11969066],\n",
       "       [0.6707886 , 0.3292114 ],\n",
       "       [0.90290889, 0.09709111],\n",
       "       [0.87422084, 0.12577916],\n",
       "       [0.90287052, 0.09712948],\n",
       "       [0.20465519, 0.79534481],\n",
       "       [0.64602877, 0.35397123],\n",
       "       [0.66780848, 0.33219152],\n",
       "       [0.07663998, 0.92336002],\n",
       "       [0.9027967 , 0.0972033 ],\n",
       "       [0.90293544, 0.09706456],\n",
       "       [0.83933121, 0.16066879],\n",
       "       [0.60747987, 0.39252013],\n",
       "       [0.83933121, 0.16066879],\n",
       "       [0.79920778, 0.20079222],\n",
       "       [0.46500732, 0.53499268],\n",
       "       [0.79914477, 0.20085523],\n",
       "       [0.90287052, 0.09712948],\n",
       "       [0.60764841, 0.39235159],\n",
       "       [0.88010823, 0.11989177],\n",
       "       [0.7874638 , 0.2125362 ],\n",
       "       [0.84452725, 0.15547275],\n",
       "       [0.55312189, 0.44687811],\n",
       "       [0.65419739, 0.34580261],\n",
       "       [0.33031414, 0.66968586],\n",
       "       [0.90291675, 0.09708325],\n",
       "       [0.07119304, 0.92880696],\n",
       "       [0.90287052, 0.09712948],\n",
       "       [0.90296494, 0.09703506],\n",
       "       [0.41378846, 0.58621154],\n",
       "       [0.09416931, 0.90583069],\n",
       "       [0.79919698, 0.20080302],\n",
       "       [0.04398563, 0.95601437],\n",
       "       [0.4755372 , 0.5244628 ],\n",
       "       [0.92222903, 0.07777097],\n",
       "       [0.21408832, 0.78591168],\n",
       "       [0.85218871, 0.14781129],\n",
       "       [0.53323976, 0.46676024],\n",
       "       [0.8187447 , 0.1812553 ],\n",
       "       [0.71059766, 0.28940234],\n",
       "       [0.2925291 , 0.7074709 ],\n",
       "       [0.90252756, 0.09747244],\n",
       "       [0.94700126, 0.05299874],\n",
       "       [0.8908135 , 0.1091865 ],\n",
       "       [0.90272578, 0.09727422],\n",
       "       [0.06455604, 0.93544396],\n",
       "       [0.60001828, 0.39998172],\n",
       "       [0.95861996, 0.04138004],\n",
       "       [0.38407432, 0.61592568],\n",
       "       [0.79919698, 0.20080302],\n",
       "       [0.1161174 , 0.8838826 ],\n",
       "       [0.89864844, 0.10135156],\n",
       "       [0.0940268 , 0.9059732 ],\n",
       "       [0.20857534, 0.79142466],\n",
       "       [0.20465519, 0.79534481],\n",
       "       [0.09416931, 0.90583069],\n",
       "       [0.20465519, 0.79534481],\n",
       "       [0.62439051, 0.37560949],\n",
       "       [0.60097922, 0.39902078],\n",
       "       [0.10817831, 0.89182169],\n",
       "       [0.67955275, 0.32044725],\n",
       "       [0.09384684, 0.90615316],\n",
       "       [0.30633033, 0.69366967],\n",
       "       [0.90291675, 0.09708325],\n",
       "       [0.33030669, 0.66969331],\n",
       "       [0.89558037, 0.10441963],\n",
       "       [0.90290693, 0.09709307],\n",
       "       [0.65869138, 0.34130862],\n",
       "       [0.69617028, 0.30382972],\n",
       "       [0.79662816, 0.20337184],\n",
       "       [0.88031524, 0.11968476],\n",
       "       [0.90287052, 0.09712948],\n",
       "       [0.57129466, 0.42870534],\n",
       "       [0.89864947, 0.10135053],\n",
       "       [0.79326374, 0.20673626],\n",
       "       [0.03175308, 0.96824692],\n",
       "       [0.85218871, 0.14781129],\n",
       "       [0.87422209, 0.12577791],\n",
       "       [0.85219437, 0.14780563],\n",
       "       [0.52975735, 0.47024265],\n",
       "       [0.79326374, 0.20673626],\n",
       "       [0.11068234, 0.88931766],\n",
       "       [0.62303545, 0.37696455],\n",
       "       [0.07975246, 0.92024754],\n",
       "       [0.90277997, 0.09722003],\n",
       "       [0.14194406, 0.85805594],\n",
       "       [0.62303545, 0.37696455],\n",
       "       [0.9223834 , 0.0776166 ],\n",
       "       [0.27186611, 0.72813389],\n",
       "       [0.83933121, 0.16066879],\n",
       "       [0.27882661, 0.72117339],\n",
       "       [0.5925701 , 0.4074299 ],\n",
       "       [0.92915822, 0.07084178],\n",
       "       [0.47815708, 0.52184292],\n",
       "       [0.07609075, 0.92390925],\n",
       "       [0.92228213, 0.07771787],\n",
       "       [0.04417028, 0.95582972],\n",
       "       [0.33030669, 0.66969331],\n",
       "       [0.67045895, 0.32954105],\n",
       "       [0.60747987, 0.39252013],\n",
       "       [0.62439051, 0.37560949],\n",
       "       [0.79914477, 0.20085523],\n",
       "       [0.88030934, 0.11969066],\n",
       "       [0.21115803, 0.78884197],\n",
       "       [0.53854897, 0.46145103],\n",
       "       [0.90272578, 0.09727422],\n",
       "       [0.90253152, 0.09746848],\n",
       "       [0.1303472 , 0.8696528 ],\n",
       "       [0.43744696, 0.56255304],\n",
       "       [0.90310641, 0.09689359],\n",
       "       [0.90287052, 0.09712948],\n",
       "       [0.89864844, 0.10135156],\n",
       "       [0.79326374, 0.20673626],\n",
       "       [0.90844177, 0.09155823],\n",
       "       [0.92948212, 0.07051788],\n",
       "       [0.87422209, 0.12577791],\n",
       "       [0.92225881, 0.07774119],\n",
       "       [0.60349916, 0.39650084],\n",
       "       [0.87422084, 0.12577916]])"
      ]
     },
     "execution_count": 20,
     "metadata": {},
     "output_type": "execute_result"
    }
   ],
   "source": [
    "y_pred_prob"
   ]
  },
  {
   "cell_type": "code",
   "execution_count": 21,
   "metadata": {
    "scrolled": true
   },
   "outputs": [
    {
     "name": "stdout",
     "output_type": "stream",
     "text": [
      "0.8161434977578476\n"
     ]
    }
   ],
   "source": [
    "# calculate classification accuracy\n",
    "print(metrics.accuracy_score(y_test, y_pred_class))"
   ]
  },
  {
   "cell_type": "markdown",
   "metadata": {},
   "source": [
    "# 5. How to evaluate the classification model"
   ]
  },
  {
   "cell_type": "markdown",
   "metadata": {},
   "source": [
    "## Using confusion matrix"
   ]
  },
  {
   "cell_type": "code",
   "execution_count": 22,
   "metadata": {},
   "outputs": [
    {
     "name": "stdout",
     "output_type": "stream",
     "text": [
      "[[124  15]\n",
      " [ 26  58]]\n"
     ]
    }
   ],
   "source": [
    "# print confusion matrix\n",
    "print(metrics.confusion_matrix(y_test, y_pred_class))"
   ]
  },
  {
   "cell_type": "code",
   "execution_count": 23,
   "metadata": {},
   "outputs": [],
   "source": [
    "# save confusion matrix and slice into four pieces\n",
    "confusion = metrics.confusion_matrix(y_test, y_pred_class)\n",
    "TP = confusion[1][1]\n",
    "TN = confusion[0][0]\n",
    "FP = confusion[0][1]\n",
    "FN = confusion[1][0]"
   ]
  },
  {
   "cell_type": "code",
   "execution_count": 24,
   "metadata": {},
   "outputs": [
    {
     "name": "stdout",
     "output_type": "stream",
     "text": [
      "True Positives: 58\n",
      "True Negatives: 124\n",
      "False Positives: 15\n",
      "False Negatives: 26\n"
     ]
    }
   ],
   "source": [
    "print('True Positives:', TP)\n",
    "print('True Negatives:', TN)\n",
    "print('False Positives:', FP)\n",
    "print('False Negatives:', FN)"
   ]
  },
  {
   "cell_type": "code",
   "execution_count": 25,
   "metadata": {},
   "outputs": [
    {
     "name": "stdout",
     "output_type": "stream",
     "text": [
      "Sensitivity: 0.6904761904761905\n"
     ]
    }
   ],
   "source": [
    "# calculate the sensitivity\n",
    "print('Sensitivity:', TP / (TP + FN))"
   ]
  },
  {
   "cell_type": "code",
   "execution_count": 26,
   "metadata": {},
   "outputs": [
    {
     "name": "stdout",
     "output_type": "stream",
     "text": [
      "Specificity: 0.8920863309352518\n"
     ]
    }
   ],
   "source": [
    "# calculate the specificity\n",
    "print('Specificity:', TN / (TN + FP))"
   ]
  },
  {
   "cell_type": "code",
   "execution_count": 27,
   "metadata": {},
   "outputs": [
    {
     "name": "stdout",
     "output_type": "stream",
     "text": [
      "0.7388535031847133\n"
     ]
    }
   ],
   "source": [
    "print(metrics.f1_score(y_test, y_pred_class))"
   ]
  },
  {
   "cell_type": "code",
   "execution_count": 28,
   "metadata": {},
   "outputs": [
    {
     "name": "stdout",
     "output_type": "stream",
     "text": [
      "              precision    recall  f1-score   support\n",
      "\n",
      "           0       0.83      0.89      0.86       139\n",
      "           1       0.79      0.69      0.74        84\n",
      "\n",
      "   micro avg       0.82      0.82      0.82       223\n",
      "   macro avg       0.81      0.79      0.80       223\n",
      "weighted avg       0.81      0.82      0.81       223\n",
      "\n"
     ]
    }
   ],
   "source": [
    "print(metrics.classification_report(y_test, y_pred_class))"
   ]
  },
  {
   "cell_type": "markdown",
   "metadata": {},
   "source": [
    "### How about using other threshold?\n",
    "- If y_pred_prob > 0.3, than y_pred_class = 1"
   ]
  },
  {
   "cell_type": "code",
   "execution_count": 29,
   "metadata": {},
   "outputs": [
    {
     "name": "stdout",
     "output_type": "stream",
     "text": [
      "[[0.28661747 0.71338253]\n",
      " [0.89864844 0.10135156]\n",
      " [0.53508244 0.46491756]\n",
      " [0.6030084  0.3969916 ]\n",
      " [0.90575789 0.09424211]\n",
      " [0.7874638  0.2125362 ]\n",
      " [0.20345246 0.79654754]\n",
      " [0.26203148 0.73796852]\n",
      " [0.17403351 0.82596649]\n",
      " [0.44776283 0.55223717]\n",
      " [0.36438009 0.63561991]\n",
      " [0.38409292 0.61590708]\n",
      " [0.11632894 0.88367106]\n",
      " [0.90287052 0.09712948]\n",
      " [0.07147881 0.92852119]\n",
      " [0.2925291  0.7074709 ]\n",
      " [0.05307919 0.94692081]\n",
      " [0.64955312 0.35044688]\n",
      " [0.52883368 0.47116632]\n",
      " [0.84113863 0.15886137]\n",
      " [0.55525925 0.44474075]\n",
      " [0.1097666  0.8902334 ]\n",
      " [0.79326374 0.20673626]\n",
      " [0.90838212 0.09161788]\n",
      " [0.93957735 0.06042265]\n",
      " [0.92736056 0.07263944]\n",
      " [0.90290693 0.09709307]\n",
      " [0.03606989 0.96393011]\n",
      " [0.79914477 0.20085523]\n",
      " [0.88030934 0.11969066]\n",
      " [0.45130192 0.54869808]\n",
      " [0.26709518 0.73290482]\n",
      " [0.79326374 0.20673626]\n",
      " [0.8908135  0.1091865 ]\n",
      " [0.70052885 0.29947115]\n",
      " [0.74243994 0.25756006]\n",
      " [0.90296494 0.09703506]\n",
      " [0.90294134 0.09705866]\n",
      " [0.20465519 0.79534481]\n",
      " [0.53290463 0.46709537]\n",
      " [0.05347829 0.94652171]\n",
      " [0.94430169 0.05569831]\n",
      " [0.45121449 0.54878551]\n",
      " [0.38301582 0.61698418]\n",
      " [0.79857322 0.20142678]\n",
      " [0.79326374 0.20673626]\n",
      " [0.11910749 0.88089251]\n",
      " [0.6707886  0.3292114 ]\n",
      " [0.90310641 0.09689359]\n",
      " [0.25943626 0.74056374]\n",
      " [0.37288393 0.62711607]\n",
      " [0.5347079  0.4652921 ]\n",
      " [0.90305927 0.09694073]\n",
      " [0.90287052 0.09712948]\n",
      " [0.79326374 0.20673626]\n",
      " [0.89864947 0.10135053]\n",
      " [0.93957735 0.06042265]\n",
      " [0.79918799 0.20081201]\n",
      " [0.66204897 0.33795103]\n",
      " [0.95861996 0.04138004]\n",
      " [0.11990087 0.88009913]\n",
      " [0.02646791 0.97353209]\n",
      " [0.45726526 0.54273474]\n",
      " [0.07296758 0.92703242]\n",
      " [0.90310641 0.09689359]\n",
      " [0.93279807 0.06720193]\n",
      " [0.79326374 0.20673626]\n",
      " [0.79326374 0.20673626]\n",
      " [0.6611088  0.3388912 ]\n",
      " [0.16928852 0.83071148]\n",
      " [0.08707071 0.91292929]\n",
      " [0.90287052 0.09712948]\n",
      " [0.66171186 0.33828814]\n",
      " [0.53068238 0.46931762]\n",
      " [0.90293544 0.09706456]\n",
      " [0.90290693 0.09709307]\n",
      " [0.94786279 0.05213721]\n",
      " [0.90305927 0.09694073]\n",
      " [0.10706286 0.89293714]\n",
      " [0.09158915 0.90841085]\n",
      " [0.462384   0.537616  ]\n",
      " [0.90095285 0.09904715]\n",
      " [0.94484708 0.05515292]\n",
      " [0.89864844 0.10135156]\n",
      " [0.90290693 0.09709307]\n",
      " [0.79358373 0.20641627]\n",
      " [0.18448125 0.81551875]\n",
      " [0.87379583 0.12620417]\n",
      " [0.65838862 0.34161138]\n",
      " [0.90310641 0.09689359]\n",
      " [0.20974829 0.79025171]\n",
      " [0.78464464 0.21535536]\n",
      " [0.79282178 0.20717822]\n",
      " [0.94484708 0.05515292]\n",
      " [0.55226006 0.44773994]\n",
      " [0.79925099 0.20074901]\n",
      " [0.06233874 0.93766126]\n",
      " [0.07181264 0.92818736]\n",
      " [0.90272774 0.09727226]\n",
      " [0.34670797 0.65329203]\n",
      " [0.93957735 0.06042265]\n",
      " [0.51480807 0.48519193]\n",
      " [0.60747987 0.39252013]\n",
      " [0.16626453 0.83373547]\n",
      " [0.88030934 0.11969066]\n",
      " [0.6707886  0.3292114 ]\n",
      " [0.90290889 0.09709111]\n",
      " [0.87422084 0.12577916]\n",
      " [0.90287052 0.09712948]\n",
      " [0.20465519 0.79534481]\n",
      " [0.64602877 0.35397123]\n",
      " [0.66780848 0.33219152]\n",
      " [0.07663998 0.92336002]\n",
      " [0.9027967  0.0972033 ]\n",
      " [0.90293544 0.09706456]\n",
      " [0.83933121 0.16066879]\n",
      " [0.60747987 0.39252013]\n",
      " [0.83933121 0.16066879]\n",
      " [0.79920778 0.20079222]\n",
      " [0.46500732 0.53499268]\n",
      " [0.79914477 0.20085523]\n",
      " [0.90287052 0.09712948]\n",
      " [0.60764841 0.39235159]\n",
      " [0.88010823 0.11989177]\n",
      " [0.7874638  0.2125362 ]\n",
      " [0.84452725 0.15547275]\n",
      " [0.55312189 0.44687811]\n",
      " [0.65419739 0.34580261]\n",
      " [0.33031414 0.66968586]\n",
      " [0.90291675 0.09708325]\n",
      " [0.07119304 0.92880696]\n",
      " [0.90287052 0.09712948]\n",
      " [0.90296494 0.09703506]\n",
      " [0.41378846 0.58621154]\n",
      " [0.09416931 0.90583069]\n",
      " [0.79919698 0.20080302]\n",
      " [0.04398563 0.95601437]\n",
      " [0.4755372  0.5244628 ]\n",
      " [0.92222903 0.07777097]\n",
      " [0.21408832 0.78591168]\n",
      " [0.85218871 0.14781129]\n",
      " [0.53323976 0.46676024]\n",
      " [0.8187447  0.1812553 ]\n",
      " [0.71059766 0.28940234]\n",
      " [0.2925291  0.7074709 ]\n",
      " [0.90252756 0.09747244]\n",
      " [0.94700126 0.05299874]\n",
      " [0.8908135  0.1091865 ]\n",
      " [0.90272578 0.09727422]\n",
      " [0.06455604 0.93544396]\n",
      " [0.60001828 0.39998172]\n",
      " [0.95861996 0.04138004]\n",
      " [0.38407432 0.61592568]\n",
      " [0.79919698 0.20080302]\n",
      " [0.1161174  0.8838826 ]\n",
      " [0.89864844 0.10135156]\n",
      " [0.0940268  0.9059732 ]\n",
      " [0.20857534 0.79142466]\n",
      " [0.20465519 0.79534481]\n",
      " [0.09416931 0.90583069]\n",
      " [0.20465519 0.79534481]\n",
      " [0.62439051 0.37560949]\n",
      " [0.60097922 0.39902078]\n",
      " [0.10817831 0.89182169]\n",
      " [0.67955275 0.32044725]\n",
      " [0.09384684 0.90615316]\n",
      " [0.30633033 0.69366967]\n",
      " [0.90291675 0.09708325]\n",
      " [0.33030669 0.66969331]\n",
      " [0.89558037 0.10441963]\n",
      " [0.90290693 0.09709307]\n",
      " [0.65869138 0.34130862]\n",
      " [0.69617028 0.30382972]\n",
      " [0.79662816 0.20337184]\n",
      " [0.88031524 0.11968476]\n",
      " [0.90287052 0.09712948]\n",
      " [0.57129466 0.42870534]\n",
      " [0.89864947 0.10135053]\n",
      " [0.79326374 0.20673626]\n",
      " [0.03175308 0.96824692]\n",
      " [0.85218871 0.14781129]\n",
      " [0.87422209 0.12577791]\n",
      " [0.85219437 0.14780563]\n",
      " [0.52975735 0.47024265]\n",
      " [0.79326374 0.20673626]\n",
      " [0.11068234 0.88931766]\n",
      " [0.62303545 0.37696455]\n",
      " [0.07975246 0.92024754]\n",
      " [0.90277997 0.09722003]\n",
      " [0.14194406 0.85805594]\n",
      " [0.62303545 0.37696455]\n",
      " [0.9223834  0.0776166 ]\n",
      " [0.27186611 0.72813389]\n",
      " [0.83933121 0.16066879]\n",
      " [0.27882661 0.72117339]\n",
      " [0.5925701  0.4074299 ]\n",
      " [0.92915822 0.07084178]\n",
      " [0.47815708 0.52184292]\n",
      " [0.07609075 0.92390925]\n",
      " [0.92228213 0.07771787]\n",
      " [0.04417028 0.95582972]\n",
      " [0.33030669 0.66969331]\n",
      " [0.67045895 0.32954105]\n",
      " [0.60747987 0.39252013]\n",
      " [0.62439051 0.37560949]\n",
      " [0.79914477 0.20085523]\n",
      " [0.88030934 0.11969066]\n",
      " [0.21115803 0.78884197]\n",
      " [0.53854897 0.46145103]\n",
      " [0.90272578 0.09727422]\n",
      " [0.90253152 0.09746848]\n",
      " [0.1303472  0.8696528 ]\n",
      " [0.43744696 0.56255304]\n",
      " [0.90310641 0.09689359]\n",
      " [0.90287052 0.09712948]\n",
      " [0.89864844 0.10135156]\n",
      " [0.79326374 0.20673626]\n",
      " [0.90844177 0.09155823]\n",
      " [0.92948212 0.07051788]\n",
      " [0.87422209 0.12577791]\n",
      " [0.92225881 0.07774119]\n",
      " [0.60349916 0.39650084]\n",
      " [0.87422084 0.12577916]]\n"
     ]
    }
   ],
   "source": [
    "test = logreg.predict_proba(X_test)\n",
    "print(test)"
   ]
  },
  {
   "cell_type": "code",
   "execution_count": 30,
   "metadata": {},
   "outputs": [],
   "source": [
    "# store the predicted probabilities\n",
    "y_pred_prob = logreg.predict_proba(X_test)[:, 1]"
   ]
  },
  {
   "cell_type": "code",
   "execution_count": 31,
   "metadata": {
    "scrolled": true
   },
   "outputs": [
    {
     "data": {
      "text/plain": [
       "Text(0, 0.5, 'Frequency')"
      ]
     },
     "execution_count": 31,
     "metadata": {},
     "output_type": "execute_result"
    },
    {
     "data": {
      "image/png": "[encoded data removed]",
      "text/plain": [
       "<Figure size 432x288 with 1 Axes>"
      ]
     },
     "metadata": {
      "needs_background": "light"
     },
     "output_type": "display_data"
    }
   ],
   "source": [
    "# histogram of predicted probabilities\n",
    "plt.hist(y_pred_prob)\n",
    "plt.xlim(0, 1)\n",
    "plt.xlabel('Predicted probability of survival')\n",
    "plt.ylabel('Frequency')"
   ]
  },
  {
   "cell_type": "code",
   "execution_count": 32,
   "metadata": {
    "scrolled": true
   },
   "outputs": [],
   "source": [
    "# increase sensitivity by lowering the threshold for predicting survival\n",
    "y_pred_class_new = np.where(y_pred_prob >= 0.3, 1, 0)"
   ]
  },
  {
   "cell_type": "code",
   "execution_count": 33,
   "metadata": {},
   "outputs": [
    {
     "data": {
      "text/plain": [
       "array([1, 0, 1, 1, 0, 0, 1, 1, 1, 1, 1, 1, 1, 0, 1, 1, 1, 1, 1, 0, 1, 1,\n",
       "       0, 0, 0, 0, 0, 1, 0, 0, 1, 1, 0, 0, 0, 0, 0, 0, 1, 1, 1, 0, 1, 1,\n",
       "       0, 0, 1, 1, 0, 1, 1, 1, 0, 0, 0, 0, 0, 0, 1, 0, 1, 1, 1, 1, 0, 0,\n",
       "       0, 0, 1, 1, 1, 0, 1, 1, 0, 0, 0, 0, 1, 1, 1, 0, 0, 0, 0, 0, 1, 0,\n",
       "       1, 0, 1, 0, 0, 0, 1, 0, 1, 1, 0, 1, 0, 1, 1, 1, 0, 1, 0, 0, 0, 1,\n",
       "       1, 1, 1, 0, 0, 0, 1, 0, 0, 1, 0, 0, 1, 0, 0, 0, 1, 1, 1, 0, 1, 0,\n",
       "       0, 1, 1, 0, 1, 1, 0, 1, 0, 1, 0, 0, 1, 0, 0, 0, 0, 1, 1, 0, 1, 0,\n",
       "       1, 0, 1, 1, 1, 1, 1, 1, 1, 1, 1, 1, 1, 0, 1, 0, 0, 1, 1, 0, 0, 0,\n",
       "       1, 0, 0, 1, 0, 0, 0, 1, 0, 1, 1, 1, 0, 1, 1, 0, 1, 0, 1, 1, 0, 1,\n",
       "       1, 0, 1, 1, 1, 1, 1, 0, 0, 1, 1, 0, 0, 1, 1, 0, 0, 0, 0, 0, 0, 0,\n",
       "       0, 1, 0])"
      ]
     },
     "execution_count": 33,
     "metadata": {},
     "output_type": "execute_result"
    }
   ],
   "source": [
    "y_pred_class_new"
   ]
  },
  {
   "cell_type": "code",
   "execution_count": 34,
   "metadata": {},
   "outputs": [
    {
     "name": "stdout",
     "output_type": "stream",
     "text": [
      "[[124  15]\n",
      " [ 26  58]]\n"
     ]
    }
   ],
   "source": [
    "# old confusion matrix\n",
    "print(confusion)"
   ]
  },
  {
   "cell_type": "code",
   "execution_count": 35,
   "metadata": {},
   "outputs": [
    {
     "name": "stdout",
     "output_type": "stream",
     "text": [
      "[[98 41]\n",
      " [12 72]]\n"
     ]
    }
   ],
   "source": [
    "confusion_new = metrics.confusion_matrix(y_test, y_pred_class_new)\n",
    "print(confusion_new)"
   ]
  },
  {
   "cell_type": "code",
   "execution_count": 36,
   "metadata": {},
   "outputs": [],
   "source": [
    "TP = confusion_new[1][1]\n",
    "TN = confusion_new[0][0]\n",
    "FP = confusion_new[0][1]\n",
    "FN = confusion_new[1][0]"
   ]
  },
  {
   "cell_type": "code",
   "execution_count": 37,
   "metadata": {},
   "outputs": [
    {
     "name": "stdout",
     "output_type": "stream",
     "text": [
      "Sensitivity: 0.8571428571428571\n"
     ]
    }
   ],
   "source": [
    "# new sensitivity (higher than before)\n",
    "print('Sensitivity:', TP / float(TP + FN))"
   ]
  },
  {
   "cell_type": "code",
   "execution_count": 38,
   "metadata": {
    "scrolled": true
   },
   "outputs": [
    {
     "name": "stdout",
     "output_type": "stream",
     "text": [
      "Specificity: 0.7050359712230215\n"
     ]
    }
   ],
   "source": [
    "# new specificity (lower than before)\n",
    "print('Specificity:', TN / float(TN + FP))"
   ]
  },
  {
   "cell_type": "code",
   "execution_count": 39,
   "metadata": {},
   "outputs": [
    {
     "name": "stdout",
     "output_type": "stream",
     "text": [
      "              precision    recall  f1-score   support\n",
      "\n",
      "           0       0.89      0.71      0.79       139\n",
      "           1       0.64      0.86      0.73        84\n",
      "\n",
      "   micro avg       0.76      0.76      0.76       223\n",
      "   macro avg       0.76      0.78      0.76       223\n",
      "weighted avg       0.80      0.76      0.77       223\n",
      "\n"
     ]
    }
   ],
   "source": [
    "print(metrics.classification_report(y_test, y_pred_class_new))"
   ]
  },
  {
   "cell_type": "markdown",
   "metadata": {},
   "source": [
    "## ROC, auroc"
   ]
  },
  {
   "cell_type": "markdown",
   "metadata": {},
   "source": [
    "### Drawing ROC curve and calculate AUC"
   ]
  },
  {
   "cell_type": "code",
   "execution_count": 41,
   "metadata": {},
   "outputs": [],
   "source": [
    "from sklearn.metrics import roc_curve, auc, roc_auc_score"
   ]
  },
  {
   "cell_type": "code",
   "execution_count": 42,
   "metadata": {},
   "outputs": [
    {
     "name": "stderr",
     "output_type": "stream",
     "text": [
      "C:\\Users\\JunHyuk\\Anaconda3\\lib\\site-packages\\sklearn\\linear_model\\logistic.py:433: FutureWarning: Default solver will be changed to 'lbfgs' in 0.22. Specify a solver to silence this warning.\n",
      "  FutureWarning)\n",
      "C:\\Users\\JunHyuk\\Anaconda3\\lib\\site-packages\\sklearn\\linear_model\\logistic.py:433: FutureWarning: Default solver will be changed to 'lbfgs' in 0.22. Specify a solver to silence this warning.\n",
      "  FutureWarning)\n"
     ]
    }
   ],
   "source": [
    "classifier = LogisticRegression(penalty='l2', C=1)\n",
    "y_prob = classifier.fit(X_train, y_train).predict_proba(X_test)\n",
    "y_score = classifier.fit(X_train, y_train).decision_function(X_test)  #로지스틱에선 logit 이 decision function"
   ]
  },
  {
   "cell_type": "code",
   "execution_count": 51,
   "metadata": {
    "scrolled": true
   },
   "outputs": [
    {
     "name": "stdout",
     "output_type": "stream",
     "text": [
      "[[0.30755471 0.69244529]\n",
      " [0.88624606 0.11375394]\n",
      " [0.54370812 0.45629188]\n",
      " [0.60493928 0.39506072]\n",
      " [0.89921341 0.10078659]]\n"
     ]
    }
   ],
   "source": [
    "print(y_prob[0:5,:])"
   ]
  },
  {
   "cell_type": "code",
   "execution_count": 52,
   "metadata": {},
   "outputs": [
    {
     "name": "stdout",
     "output_type": "stream",
     "text": [
      "[ 0.81157623 -2.05295698 -0.17527986 -0.42608861 -2.18851504]\n"
     ]
    }
   ],
   "source": [
    "print(y_score[0:5])"
   ]
  },
  {
   "cell_type": "code",
   "execution_count": 53,
   "metadata": {},
   "outputs": [
    {
     "name": "stdout",
     "output_type": "stream",
     "text": [
      "0.8563292223364165\n"
     ]
    }
   ],
   "source": [
    "fpr, tpr, _ = roc_curve(y_test, y_prob[:,1])\n",
    "# fpr, tpr, _ = roc_curve(y_test, y_score)\n",
    "roc_auc = auc(fpr, tpr)\n",
    "print(roc_auc)"
   ]
  },
  {
   "cell_type": "code",
   "execution_count": 54,
   "metadata": {
    "scrolled": true
   },
   "outputs": [
    {
     "data": {
      "image/png": "[encoded data removed]",
      "text/plain": [
       "<Figure size 432x288 with 1 Axes>"
      ]
     },
     "metadata": {
      "needs_background": "light"
     },
     "output_type": "display_data"
    }
   ],
   "source": [
    "plt.figure()\n",
    "plt.plot(fpr, tpr, label = 'ROC curve')\n",
    "plt.plot([0,1], [0,1], 'k--')\n",
    "plt.xlim([0.0, 1.0])\n",
    "plt.ylim([0.0, 1.05])\n",
    "plt.xlabel('False Positive Rate')\n",
    "plt.ylabel('True Positive Rate')\n",
    "plt.title('Receiver operating characteristic example')\n",
    "plt.legend(loc=\"lower right\")\n",
    "plt.show()"
   ]
  },
  {
   "cell_type": "code",
   "execution_count": 44,
   "metadata": {},
   "outputs": [
    {
     "data": {
      "text/plain": [
       "0.8563292223364165"
      ]
     },
     "execution_count": 44,
     "metadata": {},
     "output_type": "execute_result"
    }
   ],
   "source": [
    "roc_auc_score(y_test,y_score)   #roc curve 안그리고 바로 auc 계산"
   ]
  },
  {
   "cell_type": "code",
   "execution_count": 43,
   "metadata": {},
   "outputs": [],
   "source": [
    "?roc_auc_score"
   ]
  },
  {
   "cell_type": "code",
   "execution_count": null,
   "metadata": {},
   "outputs": [],
   "source": []
  }
 ],
 "metadata": {
  "anaconda-cloud": {},
  "kernelspec": {
   "display_name": "Python 3",
   "language": "python",
   "name": "python3"
  },
  "language_info": {
   "codemirror_mode": {
    "name": "ipython",
    "version": 3
   },
   "file_extension": ".py",
   "mimetype": "text/x-python",
   "name": "python",
   "nbconvert_exporter": "python",
   "pygments_lexer": "ipython3",
   "version": "3.7.3"
  }
 },
 "nbformat": 4,
 "nbformat_minor": 1
}
