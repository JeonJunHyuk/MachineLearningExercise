{
 "cells": [
  {
   "cell_type": "code",
   "execution_count": 10,
   "metadata": {},
   "outputs": [],
   "source": [
    "import numpy as np\n",
    "import matplotlib.pyplot as plt\n"
   ]
  },
  {
   "cell_type": "code",
   "execution_count": 11,
   "metadata": {},
   "outputs": [],
   "source": [
    "def plotData(X,y):\n",
    "    plt.figure(figsize=(10,6))\n",
    "    pos=np.where(y==1)\n",
    "    neg=np.where(y==0)\n",
    "    plt.plot(X[pos,0],X[pos,1],'k+')\n",
    "    plt.plot(X[neg,0],X[neg,1],'yo')\n",
    "    plt.grid(True)"
   ]
  },
  {
   "cell_type": "code",
   "execution_count": 12,
   "metadata": {},
   "outputs": [],
   "source": [
    "def costFunction(theta,X,y):\n",
    "    m,n = X.shape\n",
    "    J=0\n",
    "    grad=np.zeros(np.size(theta))\n",
    "    prediction=sigmoid(X.dot(theta))\n",
    "    J=1/m*sum(-y*np.log(prediction)-(1-y)*np.log(1-prediction))\n",
    "    error=prediction-y\n",
    "    delta=1/m*error.T.dot(X)\n",
    "    grad=delta\n",
    "    return J, grad"
   ]
  },
  {
   "cell_type": "code",
   "execution_count": 13,
   "metadata": {},
   "outputs": [],
   "source": [
    "def myCost(theta,X,y):\n",
    "    m,n=X.shape\n",
    "    predictions=X.dot(theta)\n",
    "    sig_term=sigmoid(predictions)\n",
    "    J=1/m*np.sum(-y*np.log(sig_term)-(1-y)*np.log(1-sig_term))\n",
    "    return J"
   ]
  },
  {
   "cell_type": "code",
   "execution_count": 14,
   "metadata": {},
   "outputs": [],
   "source": [
    "def myGradient(theta,X,y):\n",
    "    m,n=np.shape(X)\n",
    "    predictions=sigmoid(X.dot(theta))\n",
    "    errors=predictions-y\n",
    "    delta=1/m*errors.T.dot(X)\n",
    "    grad=delta\n",
    "    return grad"
   ]
  },
  {
   "cell_type": "code",
   "execution_count": 15,
   "metadata": {},
   "outputs": [],
   "source": [
    "def sigmoid(z):\n",
    "    g=1/(1+np.exp(-z))\n",
    "    return g"
   ]
  },
  {
   "cell_type": "code",
   "execution_count": 16,
   "metadata": {},
   "outputs": [],
   "source": [
    "def plotDecisionBoundary(theta,X,y):\n",
    "    plotData(X[:,1:3],y)\n",
    "    \n",
    "    if np.size(X,1)<=3:\n",
    "        plot_x=np.array([np.min(X[:,1])-2,np.max(X[:,1]+2)])\n",
    "        plot_y=(-1/theta[2])*(theta[1]*plot_x+theta[0])\n",
    "        plt.plot(plot_x,plot_y)\n",
    "        plt.legend(('Admitted','Not admitted'), loc='upper right')\n",
    "    else:\n",
    "        u=linspace(-1,1.5,50)\n",
    "        v=linspace(-1,1.5,50)\n",
    "        z=np.zeros((np.size(u),np.size(v)))\n",
    "        \n",
    "        for i in np.arange(np.size(u)):\n",
    "            for j in np.arange(np.size(v)):\n",
    "                z[i,j]=np.sum(mapFeature(u[i],v[j])*theta)\n",
    "        \n",
    "        z=z.T\n",
    "        plt.contour(u,v,z)"
   ]
  },
  {
   "cell_type": "code",
   "execution_count": 17,
   "metadata": {},
   "outputs": [],
   "source": [
    "def predict01(theta,X):\n",
    "    m=X.shape[0]\n",
    "    p=np.zeros(m)\n",
    "    p=sigmoid(X.dot(theta))>=0.5;\n",
    "    return p"
   ]
  },
  {
   "cell_type": "code",
   "execution_count": 18,
   "metadata": {},
   "outputs": [],
   "source": [
    "def probofobs(theta, X):\n",
    "    return sigmoid((X.dot(theta)))"
   ]
  },
  {
   "cell_type": "code",
   "execution_count": null,
   "metadata": {},
   "outputs": [],
   "source": []
  }
 ],
 "metadata": {
  "kernelspec": {
   "display_name": "Python 3",
   "language": "python",
   "name": "python3"
  },
  "language_info": {
   "codemirror_mode": {
    "name": "ipython",
    "version": 3
   },
   "file_extension": ".py",
   "mimetype": "text/x-python",
   "name": "python",
   "nbconvert_exporter": "python",
   "pygments_lexer": "ipython3",
   "version": "3.7.3"
  }
 },
 "nbformat": 4,
 "nbformat_minor": 2
}
