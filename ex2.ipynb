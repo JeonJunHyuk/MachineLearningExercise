{
 "cells": [
  {
   "cell_type": "code",
   "execution_count": 1,
   "metadata": {},
   "outputs": [],
   "source": [
    "import numpy as np\n",
    "import matplotlib.pyplot as plt"
   ]
  },
  {
   "cell_type": "code",
   "execution_count": 2,
   "metadata": {},
   "outputs": [],
   "source": [
    "data=np.loadtxt('c:\\python\\ex2data1.txt',delimiter=',')\n",
    "X=data[:,0:2]\n",
    "y=data[:,2]"
   ]
  },
  {
   "cell_type": "code",
   "execution_count": 48,
   "metadata": {},
   "outputs": [
    {
     "data": {
      "image/png": "[encoded data removed]",
      "text/plain": [
       "<Figure size 432x288 with 1 Axes>"
      ]
     },
     "metadata": {
      "needs_background": "light"
     },
     "output_type": "display_data"
    },
    {
     "data": {
      "image/png": "[encoded data removed]",
      "text/plain": [
       "<Figure size 720x432 with 1 Axes>"
      ]
     },
     "metadata": {
      "needs_background": "light"
     },
     "output_type": "display_data"
    }
   ],
   "source": [
    "def plotData(X,y):\n",
    "    plt.figure(figsize=(10,6))\n",
    "    pos=np.where(y==1)\n",
    "    neg=np.where(y==0)\n",
    "    plt.plot(X[pos,0],X[pos,1],'k+',label='admitted')\n",
    "    plt.plot(X[neg,0],X[neg,1],'yo',label='Not admitted')\n",
    "    plt.grid(True)\n",
    "    \n",
    "plt.xlabel('Exam 1 score')\n",
    "plt.ylabel('Exam 2 score')\n",
    "plt.legend(('admitted','Not admitted'),loc='upper right')\n",
    "plotData(X,y)\n"
   ]
  },
  {
   "cell_type": "code",
   "execution_count": 4,
   "metadata": {},
   "outputs": [],
   "source": [
    "def sigmoid(z):\n",
    "    g=1/(1+np.exp(-z))\n",
    "    return g"
   ]
  },
  {
   "cell_type": "code",
   "execution_count": 5,
   "metadata": {},
   "outputs": [
    {
     "name": "stdout",
     "output_type": "stream",
     "text": [
      "(100, 2)\n",
      "(100, 3)\n",
      "[0. 0. 0.] (3,) <class 'numpy.ndarray'>\n"
     ]
    }
   ],
   "source": [
    "m,n=np.shape(X)\n",
    "print(np.shape(X))\n",
    "X1=np.column_stack((np.ones(m),X))\n",
    "initial_theta=np.zeros(n+1)\n",
    "print(np.shape(X1))\n",
    "print(initial_theta, np.shape(initial_theta),type(initial_theta))"
   ]
  },
  {
   "cell_type": "code",
   "execution_count": 6,
   "metadata": {},
   "outputs": [
    {
     "data": {
      "text/plain": [
       "(3,)"
      ]
     },
     "execution_count": 6,
     "metadata": {},
     "output_type": "execute_result"
    }
   ],
   "source": [
    "a=np.array([1,2,3])\n",
    "a=a.T\n",
    "np.shape(a)"
   ]
  },
  {
   "cell_type": "code",
   "execution_count": 7,
   "metadata": {},
   "outputs": [],
   "source": [
    "def costFunction(theta,X,y):\n",
    "    m,n = X.shape\n",
    "    J=0\n",
    "    grad=np.zeros(np.size(theta))\n",
    "    prediction=sigmoid(X.dot(theta))\n",
    "    J=1/m*sum(-y*np.log(prediction)-(1-y)*np.log(1-prediction))\n",
    "    error=prediction-y\n",
    "    delta=1/m*error.T.dot(X)\n",
    "    grad=delta\n",
    "    return J, grad"
   ]
  },
  {
   "cell_type": "code",
   "execution_count": 8,
   "metadata": {},
   "outputs": [
    {
     "name": "stdout",
     "output_type": "stream",
     "text": [
      "Cost at initial theta(zeros): 0.693147\n",
      "Gradient at initial theta(zeros): [ -0.1        -12.00921659 -11.26284221]\n"
     ]
    }
   ],
   "source": [
    "cost, grad = costFunction(initial_theta,X1,y)\n",
    "\n",
    "print('Cost at initial theta(zeros): %f' % cost)\n",
    "print('Gradient at initial theta(zeros): %s' % grad)"
   ]
  },
  {
   "cell_type": "code",
   "execution_count": 9,
   "metadata": {},
   "outputs": [],
   "source": [
    "import scipy.optimize as op"
   ]
  },
  {
   "cell_type": "code",
   "execution_count": 10,
   "metadata": {},
   "outputs": [],
   "source": [
    "def myCost(theta,X,y):\n",
    "    m,n=X.shape\n",
    "    predictions=X.dot(theta)\n",
    "    sig_term=sigmoid(predictions)\n",
    "    J=1/m*np.sum(-y*np.log(sig_term)-(1-y)*np.log(1-sig_term))\n",
    "    return J"
   ]
  },
  {
   "cell_type": "code",
   "execution_count": 11,
   "metadata": {},
   "outputs": [],
   "source": [
    "def myGradient(theta,X,y):\n",
    "    m,n=np.shape(X)\n",
    "    predictions=sigmoid(X.dot(theta))\n",
    "    errors=predictions-y\n",
    "    delta=1/m*errors.T.dot(X)\n",
    "    grad=delta\n",
    "    return grad"
   ]
  },
  {
   "cell_type": "code",
   "execution_count": 12,
   "metadata": {},
   "outputs": [],
   "source": [
    "costFunc=lambda p: costFunction(p,X1,y)[0]\n",
    "gradFunc=lambda p: costFunction(p,X1,y)[1]"
   ]
  },
  {
   "cell_type": "code",
   "execution_count": 13,
   "metadata": {},
   "outputs": [
    {
     "name": "stdout",
     "output_type": "stream",
     "text": [
      "     fun: 0.2034977015894741\n",
      "     jac: array([9.22909509e-09, 1.05007760e-07, 4.90380175e-07])\n",
      " message: 'Local minimum reached (|pg| ~= 0)'\n",
      "    nfev: 36\n",
      "     nit: 17\n",
      "  status: 0\n",
      " success: True\n",
      "       x: array([-25.1613187 ,   0.20623159,   0.20147149])\n",
      "\n",
      " Cost at theta found by fminunc: 0.2034977015894741. \n",
      "\n",
      "theta: [-25.1613187    0.20623159   0.20147149]. \n",
      "\n"
     ]
    }
   ],
   "source": [
    "Result=op.minimize(fun=costFunc, x0=initial_theta, method='TNC',jac=gradFunc)\n",
    "print(Result)\n",
    "cost=Result.fun\n",
    "theta=Result.x\n",
    "print('\\n Cost at theta found by fminunc: %s. \\n' % cost)\n",
    "print('theta: %s. \\n'%theta)"
   ]
  },
  {
   "cell_type": "code",
   "execution_count": 49,
   "metadata": {
    "scrolled": true
   },
   "outputs": [
    {
     "data": {
      "text/plain": [
       "<matplotlib.legend.Legend at 0x1ae6a564a20>"
      ]
     },
     "execution_count": 49,
     "metadata": {},
     "output_type": "execute_result"
    },
    {
     "data": {
      "image/png": "[encoded data removed]",
      "text/plain": [
       "<Figure size 720x432 with 1 Axes>"
      ]
     },
     "metadata": {
      "needs_background": "light"
     },
     "output_type": "display_data"
    }
   ],
   "source": [
    "def plotDecisionBoundary(theta,X,y):\n",
    "    plotData(X[:,1:3],y)\n",
    "    \n",
    "    if np.size(X,1)<=3:\n",
    "        plot_x=np.array([np.min(X[:,1])-2,np.max(X[:,1]+2)])\n",
    "        plot_y=(-1/theta[2])*(theta[1]*plot_x+theta[0])\n",
    "        plt.plot(plot_x,plot_y)\n",
    "        plt.legend(('Admitted','Not admitted'), loc='upper right')\n",
    "    else:\n",
    "        u=linspace(-1,1.5,50)\n",
    "        v=linspace(-1,1.5,50)\n",
    "        z=np.zeros((np.size(u),np.size(v)))\n",
    "        \n",
    "        for i in np.arange(np.size(u)):\n",
    "            for j in np.arange(np.size(v)):\n",
    "                z[i,j]=np.sum(mapFeature(u[i],v[j])*theta)\n",
    "        \n",
    "        z=z.T\n",
    "        plt.contour(u,v,z)\n",
    "\n",
    "plotDecisionBoundary(theta,X1,y)\n",
    "plt.xlabel('Exam 1 score')\n",
    "plt.ylabel('Exam 2 score')\n",
    "plt.legend(('Admitted', 'Not admitted'), loc='upper right')"
   ]
  },
  {
   "cell_type": "code",
   "execution_count": 37,
   "metadata": {},
   "outputs": [
    {
     "name": "stdout",
     "output_type": "stream",
     "text": [
      "For a student with scores 45, 85\n",
      " we predict admission prob. of 0.776291\n",
      "Train Accuracy: 89.000000 \n"
     ]
    }
   ],
   "source": [
    "def predict(theta,X):\n",
    "    m=X.shape[0]\n",
    "    p=np.zeros(m)\n",
    "    p=sigmoid(X.dot(theta))>=0.5;\n",
    "    return p\n",
    "prob = sigmoid(np.sum(np.array([1,45,85])*theta))\n",
    "print('For a student with scores 45, 85\\n we predict admission prob. of %f'%prob)\n",
    "p=predict(theta,X1)\n",
    "print('Train Accuracy: %f ' % (np.mean(np.double(p==y))*100))\n"
   ]
  },
  {
   "cell_type": "code",
   "execution_count": 53,
   "metadata": {},
   "outputs": [
    {
     "data": {
      "text/plain": [
       "0.77629062453048"
      ]
     },
     "execution_count": 53,
     "metadata": {},
     "output_type": "execute_result"
    }
   ],
   "source": [
    "sigmoid((np.array([1,45,85]).dot(theta)))"
   ]
  },
  {
   "cell_type": "code",
   "execution_count": null,
   "metadata": {},
   "outputs": [],
   "source": []
  }
 ],
 "metadata": {
  "kernelspec": {
   "display_name": "Python 3",
   "language": "python",
   "name": "python3"
  },
  "language_info": {
   "codemirror_mode": {
    "name": "ipython",
    "version": 3
   },
   "file_extension": ".py",
   "mimetype": "text/x-python",
   "name": "python",
   "nbconvert_exporter": "python",
   "pygments_lexer": "ipython3",
   "version": "3.7.3"
  }
 },
 "nbformat": 4,
 "nbformat_minor": 2
}
