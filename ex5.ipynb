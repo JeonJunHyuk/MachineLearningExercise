{
 "cells": [
  {
   "cell_type": "code",
   "execution_count": 1,
   "metadata": {},
   "outputs": [],
   "source": [
    "import os\n",
    "import numpy as np\n",
    "from matplotlib import pyplot\n",
    "from scipy import optimize\n",
    "from scipy.io import loadmat\n",
    "%matplotlib inline"
   ]
  },
  {
   "cell_type": "code",
   "execution_count": 2,
   "metadata": {},
   "outputs": [],
   "source": [
    "data = loadmat('ex5data1.mat')\n",
    "X, y = data['X'],data['y']\n",
    "Xtest,ytest = data['Xtest'],data['ytest']\n",
    "Xval,yval = data['Xval'],data['yval']\n",
    "m = y.size"
   ]
  },
  {
   "cell_type": "code",
   "execution_count": 3,
   "metadata": {
    "scrolled": true
   },
   "outputs": [
    {
     "data": {
      "text/plain": [
       "Text(0, 0.5, 'Water flowing out of the dam (y)')"
      ]
     },
     "execution_count": 3,
     "metadata": {},
     "output_type": "execute_result"
    },
    {
     "data": {
      "image/png": "[encoded data removed]",
      "text/plain": [
       "<Figure size 432x288 with 1 Axes>"
      ]
     },
     "metadata": {
      "needs_background": "light"
     },
     "output_type": "display_data"
    }
   ],
   "source": [
    "pyplot.plot(X,y,'ro',ms=10,mec='k',mew=1)\n",
    "pyplot.xlabel('Change in water level (x)')\n",
    "pyplot.ylabel('Water flowing out of the dam (y)')"
   ]
  },
  {
   "cell_type": "code",
   "execution_count": 6,
   "metadata": {},
   "outputs": [],
   "source": [
    "def linearRegCostFunction(X,y,theta,lambda_=0.0):\n",
    "    m = y.size\n",
    "    J = 0\n",
    "    theta=theta.reshape((2,1))\n",
    "    grad = np.zeros(theta.shape)\n",
    "    \n",
    "    X = np.concatenate([np.ones(X.shape),X],axis=1)    \n",
    "    prediction = X.dot(theta)\n",
    "    \n",
    "    temp = theta\n",
    "    temp[0] = 0\n",
    "    J = 1.0/(2.0*m)*(np.sum((prediction-y)**2))+lambda_/(2.0*m)*(np.sum(temp**2))\n",
    "    grad = 1.0/m*X.T.dot(prediction-y)+lambda_/m*temp\n",
    "    \n",
    "    return J, grad"
   ]
  },
  {
   "cell_type": "code",
   "execution_count": 7,
   "metadata": {},
   "outputs": [
    {
     "data": {
      "text/plain": [
       "(303.9931922202643, array([[-15.30301567],\n",
       "        [598.25074417]]))"
      ]
     },
     "execution_count": 7,
     "metadata": {},
     "output_type": "execute_result"
    }
   ],
   "source": [
    "theta = np.ones((2,1))\n",
    "J, grad = linearRegCostFunction(X,y,theta,1)\n",
    "J, grad"
   ]
  },
  {
   "cell_type": "code",
   "execution_count": 22,
   "metadata": {},
   "outputs": [
    {
     "data": {
      "text/plain": [
       "array([[0.],\n",
       "       [0.]])"
      ]
     },
     "execution_count": 22,
     "metadata": {},
     "output_type": "execute_result"
    }
   ],
   "source": [
    "itheta=np.zeros((2,1))\n",
    "itheta"
   ]
  },
  {
   "cell_type": "code",
   "execution_count": 23,
   "metadata": {},
   "outputs": [],
   "source": [
    "costgradF = lambda t: linearRegCostFunction(X,y,t,lambda_)\n",
    "lambda_=0"
   ]
  },
  {
   "cell_type": "code",
   "execution_count": 25,
   "metadata": {
    "scrolled": false
   },
   "outputs": [
    {
     "data": {
      "text/plain": [
       "     fun: 26.62891562770855\n",
       "     jac: array([[-12.57079675],\n",
       "       [-19.76251528]])\n",
       " message: 'Linear search failed'\n",
       "    nfev: 363\n",
       "     nit: 12\n",
       "  status: 4\n",
       " success: False\n",
       "       x: array([0.        , 0.26609518])"
      ]
     },
     "execution_count": 25,
     "metadata": {},
     "output_type": "execute_result"
    }
   ],
   "source": [
    "res = optimize.minimize(costgradF,itheta,jac=True,method='tnc',options={'maxiter':1000})\n",
    "res"
   ]
  },
  {
   "cell_type": "code",
   "execution_count": 28,
   "metadata": {
    "scrolled": true
   },
   "outputs": [
    {
     "data": {
      "text/plain": [
       "[<matplotlib.lines.Line2D at 0x2350c8c2860>]"
      ]
     },
     "execution_count": 28,
     "metadata": {},
     "output_type": "execute_result"
    },
    {
     "data": {
      "image/png": "[encoded data removed]",
      "text/plain": [
       "<Figure size 432x288 with 1 Axes>"
      ]
     },
     "metadata": {
      "needs_background": "light"
     },
     "output_type": "display_data"
    }
   ],
   "source": [
    "optheta = res.x\n",
    "pyplot.plot(X,y,'ro',ms=10,mec='k',mew=1.5)\n",
    "pyplot.plot(X,np.dot(np.concatenate([np.ones((12,1)),X],axis=1),theta),'--',lw=2)"
   ]
  },
  {
   "cell_type": "code",
   "execution_count": null,
   "metadata": {},
   "outputs": [],
   "source": []
  }
 ],
 "metadata": {
  "kernelspec": {
   "display_name": "Python 3",
   "language": "python",
   "name": "python3"
  },
  "language_info": {
   "codemirror_mode": {
    "name": "ipython",
    "version": 3
   },
   "file_extension": ".py",
   "mimetype": "text/x-python",
   "name": "python",
   "nbconvert_exporter": "python",
   "pygments_lexer": "ipython3",
   "version": "3.7.3"
  }
 },
 "nbformat": 4,
 "nbformat_minor": 2
}
